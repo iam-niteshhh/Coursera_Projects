{
 "cells": [
  {
   "cell_type": "code",
   "execution_count": 1,
   "metadata": {},
   "outputs": [],
   "source": [
    "import zipfile\n",
    "\n",
    "import numpy as np \n",
    "\n",
    "import pytesseract\n",
    "\n",
    "import cv2\n",
    "\n",
    "from PIL import Image,ImageDraw\n",
    "\n",
    "# global varble decleaction\n",
    "\n",
    "\n",
    "# load the model \n",
    "\n",
    "face_cascade=cv2.CascadeClassifier(\"readonly/haarcascade_frontalface_default.xml\")\n",
    "\n",
    "project_dict={}"
   ]
  },
  {
   "cell_type": "code",
   "execution_count": null,
   "metadata": {},
   "outputs": [],
   "source": [
    "file_name_list=[]\n",
    "zip_file=zipfile.ZipFile(\"readonly/images.zip\")\n",
    "for details in zip_file.infolist():\n",
    "    project_dict[details.filename] = [Image.open(zip_file.open(details.filename))]\n",
    "    #APPEND THE IMAGE IN THE DICTIONARY USING THE HINT GIVEN \n",
    "    file_name_list.append(details.filename)\n",
    "\n",
    "#ITTERATE THROUGH ALL THE FILES\n",
    "def searching(word):\n",
    "    for name in file_name_list:\n",
    "        #OPEN THE IMAGE OF A PARTICULAR FILE\n",
    "        image=project_dict[name][0]\n",
    "        #USE PYTESSERACT.IMAGE_TO_STRING TO GET THE TEXT PRESENT IN THE IMAGE\n",
    "        project_dict[name].append(pytesseract.image_to_string(image).replace('\\n',''))\n",
    "\n",
    "        #CHECK FOR GIVEN INPUT\n",
    "        #HERE I TOOK THE INPUT AS \"MARK\" AS IT IS GIVEN IN THE TEST CASES \n",
    "        #OTHERWISE WE CAN JUST USE INPUT FUNCTION AND GET INPUT WHAT USER WANT OT SEARCH\n",
    "        if word in project_dict[name][1]:\n",
    "            print('Results found in file',name)\n",
    "            #WHEN INPUT IS PRESENT IN THE TEXT\n",
    "\n",
    "            try:\n",
    "                faces = (face_cascade.detectMultiScale(np.array(image),1.35,4)).tolist()\n",
    "                #FIND THE FACES PRESENT IN THE IMAGE USING HAARCASCADE MODEL\n",
    "                project_dict[name].append(faces)\n",
    "                faces_in_each_file = []\n",
    "\n",
    "                #ITTERATE THROUGH THE FAES COORDINATES AND PULL OUT THE IMAGE AND APPEND IT TO NEW LIST \n",
    "                for x,y,w,h in project_dict[name][2]:\n",
    "                    faces_in_each_file.append(image.crop((x,y,x+w,y+h)))\n",
    "\n",
    "                #NOW THE FACES ARE PULLED OUT FROM THE MAIN IMAGE\n",
    "                #ITS TIME TO CREATE A CONTACT_SHEET \n",
    "                contact_sheet = Image.new(image.mode, (500,100*int(np.ceil(len(faces_in_each_file)/5))))\n",
    "\n",
    "                #INITILISE CONTACT_SHEET VARIABLE\n",
    "                x =  y = 0\n",
    "\n",
    "                #NOW PASTE THE FACES DEOM THE LIST TO THE CONTACT_SHEET\n",
    "                for face in faces_in_each_file:\n",
    "                    face.thumbnail((100,100))\n",
    "                    # THIS IS GIVEN IN HINT NUMBER 4\n",
    "                    contact_sheet.paste(face, (x, y))\n",
    "                    if x+100 == contact_sheet.width:\n",
    "                        x=0\n",
    "                        y=y+100\n",
    "                    else:\n",
    "                        x=x+100\n",
    "                display(contact_sheet)\n",
    "            except:\n",
    "                #WHEN THE INPUT IS SEARCHING IS THERE BUT NO FACE FOUND \n",
    "                # WE HAVE TO PRINT THISW\n",
    "                print (\"But there were no faces in that file!\")\n",
    "                \n",
    "                \n",
    "#searching(\"Mark\")\n",
    "searching(\"Christhoper\")"
   ]
  },
  {
   "cell_type": "code",
   "execution_count": null,
   "metadata": {},
   "outputs": [],
   "source": [
    "zip_file.close()"
   ]
  },
  {
   "cell_type": "code",
   "execution_count": null,
   "metadata": {},
   "outputs": [],
   "source": []
  }
 ],
 "metadata": {
  "kernelspec": {
   "display_name": "Python 3",
   "language": "python",
   "name": "python3"
  },
  "language_info": {
   "codemirror_mode": {
    "name": "ipython",
    "version": 3
   },
   "file_extension": ".py",
   "mimetype": "text/x-python",
   "name": "python",
   "nbconvert_exporter": "python",
   "pygments_lexer": "ipython3",
   "version": "3.7.6"
  }
 },
 "nbformat": 4,
 "nbformat_minor": 4
}
